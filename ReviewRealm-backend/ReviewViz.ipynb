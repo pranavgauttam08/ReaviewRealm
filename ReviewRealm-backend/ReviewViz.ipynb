{
 "cells": [
  {
   "cell_type": "code",
   "execution_count": 1,
   "id": "9a7f0b57",
   "metadata": {},
   "outputs": [],
   "source": [
    "# importing the required libraries\n",
    "\n",
    "import pandas as pd\n",
    "import re\n",
    "import nltk\n",
    "from nltk.tokenize import word_tokenize\n",
    "from nltk.corpus import stopwords\n",
    "from nltk.corpus import wordnet\n",
    "from nltk.sentiment.vader import SentimentIntensityAnalyzer\n",
    "from rake_nltk import Rake\n",
    "from collections import defaultdict"
   ]
  },
  {
   "cell_type": "code",
   "execution_count": 2,
   "id": "e5e3fa7e",
   "metadata": {},
   "outputs": [],
   "source": [
    "# nltk.download('punkt')\n",
    "# nltk.download('averaged_perceptron_tagger')\n",
    "# nltk.download('stopwords')\n",
    "# nltk.download('wordnet')\n",
    "# nltk.download(\"vader_lexicon\")"
   ]
  },
  {
   "cell_type": "code",
   "execution_count": 3,
   "id": "9cbe4513",
   "metadata": {},
   "outputs": [],
   "source": [
    "readata = pd.read_csv('reviewsthreaded.csv')"
   ]
  },
  {
   "cell_type": "code",
   "execution_count": 4,
   "id": "fee45f7e",
   "metadata": {},
   "outputs": [],
   "source": [
    "array = readata[['rating','text']].values.tolist()"
   ]
  },
  {
   "cell_type": "code",
   "execution_count": 5,
   "id": "04050aec",
   "metadata": {},
   "outputs": [],
   "source": [
    "# reading dataset (in 'array')\n",
    "# communicates with the backend"
   ]
  },
  {
   "cell_type": "code",
   "execution_count": 6,
   "id": "1e143780",
   "metadata": {},
   "outputs": [],
   "source": [
    "# ratings in the form of: 4.0 out of 5 stars, hence extracting only required rating rather than the complete sentence\n",
    "\n",
    "for i in range(len(array)):\n",
    "    array[i][0] = array[i][0][0]"
   ]
  },
  {
   "cell_type": "code",
   "execution_count": 7,
   "id": "22662dbd",
   "metadata": {},
   "outputs": [],
   "source": [
    "# converting the dataset into pandas dataframe\n",
    "\n",
    "data=pd.DataFrame(array, columns=['rating','text'])"
   ]
  },
  {
   "cell_type": "code",
   "execution_count": 22,
   "id": "b7341723",
   "metadata": {
    "scrolled": true
   },
   "outputs": [
    {
     "data": {
      "text/plain": [
       "{'1': 0, '2': 0, '3': 20, '4': 61, '5': 47}"
      ]
     },
     "execution_count": 22,
     "metadata": {},
     "output_type": "execute_result"
    }
   ],
   "source": [
    "# calculating the ratings' count\n",
    "\n",
    "rating={'1':0,'2':0,'3':0,'4':0,'5':0}\n",
    "rating_order=data['rating'].value_counts().to_dict()\n",
    "rating.update(rating_order)\n",
    "rating"
   ]
  },
  {
   "cell_type": "code",
   "execution_count": 9,
   "id": "4465070f",
   "metadata": {
    "scrolled": true
   },
   "outputs": [
    {
     "name": "stdout",
     "output_type": "stream",
     "text": [
      "   rating text\n",
      "22      4  NaN\n",
      "   rating text\n",
      "22      4  NaN\n"
     ]
    }
   ],
   "source": [
    "# checking if there are any text rows with null value\n",
    "\n",
    "print(data[data['text'].isnull()])  # rows with null values\n",
    "print(data[data['text'].apply(lambda x: not isinstance(x, str))])  # rows with non-string values"
   ]
  },
  {
   "cell_type": "code",
   "execution_count": 10,
   "id": "4b3050ed",
   "metadata": {},
   "outputs": [],
   "source": [
    "#filling the null values\n",
    "\n",
    "data['text'] = data['text'].fillna('')  # replace null values with empty string\n",
    "data['text'] = data['text'].apply(lambda x: '' if not isinstance(x, str) else x)  # replace non-string values with empty string"
   ]
  },
  {
   "cell_type": "code",
   "execution_count": 20,
   "id": "4b1af0a6",
   "metadata": {
    "scrolled": true
   },
   "outputs": [],
   "source": [
    "# extracting keywords using RAKE\n",
    "\n",
    "r = Rake(min_length=3, max_length=4,stopwords=stopwords.words('english'),\n",
    "    punctuations = [')','(',',',':','),',').','.'])\n",
    "def extract_keywords(text):\n",
    "    r.extract_keywords_from_text(text)\n",
    "    return r.get_ranked_phrases()\n",
    "\n",
    "data['keywords'] = data['text'].apply(extract_keywords)"
   ]
  },
  {
   "cell_type": "code",
   "execution_count": 21,
   "id": "271eb7f6",
   "metadata": {},
   "outputs": [
    {
     "data": {
      "text/html": [
       "<div>\n",
       "<style scoped>\n",
       "    .dataframe tbody tr th:only-of-type {\n",
       "        vertical-align: middle;\n",
       "    }\n",
       "\n",
       "    .dataframe tbody tr th {\n",
       "        vertical-align: top;\n",
       "    }\n",
       "\n",
       "    .dataframe thead th {\n",
       "        text-align: right;\n",
       "    }\n",
       "</style>\n",
       "<table border=\"1\" class=\"dataframe\">\n",
       "  <thead>\n",
       "    <tr style=\"text-align: right;\">\n",
       "      <th></th>\n",
       "      <th>rating</th>\n",
       "      <th>text</th>\n",
       "      <th>keywords</th>\n",
       "      <th>Cleaned Reviews</th>\n",
       "      <th>POS tagged</th>\n",
       "    </tr>\n",
       "  </thead>\n",
       "  <tbody>\n",
       "    <tr>\n",
       "      <th>0</th>\n",
       "      <td>4</td>\n",
       "      <td>Nice</td>\n",
       "      <td>[]</td>\n",
       "      <td>nice</td>\n",
       "      <td>[]</td>\n",
       "    </tr>\n",
       "    <tr>\n",
       "      <th>1</th>\n",
       "      <td>4</td>\n",
       "      <td>Nice phone good camera quality</td>\n",
       "      <td>[]</td>\n",
       "      <td>nice phone good camera quality</td>\n",
       "      <td>[nice phone, good camera]</td>\n",
       "    </tr>\n",
       "    <tr>\n",
       "      <th>2</th>\n",
       "      <td>4</td>\n",
       "      <td>Everything ok but camera quality not good</td>\n",
       "      <td>[]</td>\n",
       "      <td>everything ok but camera quality not good</td>\n",
       "      <td>[]</td>\n",
       "    </tr>\n",
       "    <tr>\n",
       "      <th>3</th>\n",
       "      <td>4</td>\n",
       "      <td>Feel.....niceBuild..... excellentAudio quality...</td>\n",
       "      <td>[say goodback cam ...., min hick ups ..., soft...</td>\n",
       "      <td>feel nicebuild excellentaudio quality bestnetw...</td>\n",
       "      <td>[excellentaudio quality, good manner]</td>\n",
       "    </tr>\n",
       "    <tr>\n",
       "      <th>4</th>\n",
       "      <td>4</td>\n",
       "      <td>battery drainage too fast. as par 5000 mah bat...</td>\n",
       "      <td>[3300 mah battery]</td>\n",
       "      <td>battery drainage too fast as par 5000 mah batt...</td>\n",
       "      <td>[good otherwise]</td>\n",
       "    </tr>\n",
       "  </tbody>\n",
       "</table>\n",
       "</div>"
      ],
      "text/plain": [
       "  rating                                               text  \\\n",
       "0      4                                               Nice   \n",
       "1      4                     Nice phone good camera quality   \n",
       "2      4          Everything ok but camera quality not good   \n",
       "3      4  Feel.....niceBuild..... excellentAudio quality...   \n",
       "4      4  battery drainage too fast. as par 5000 mah bat...   \n",
       "\n",
       "                                            keywords  \\\n",
       "0                                                 []   \n",
       "1                                                 []   \n",
       "2                                                 []   \n",
       "3  [say goodback cam ...., min hick ups ..., soft...   \n",
       "4                                 [3300 mah battery]   \n",
       "\n",
       "                                     Cleaned Reviews  \\\n",
       "0                                               nice   \n",
       "1                     nice phone good camera quality   \n",
       "2          everything ok but camera quality not good   \n",
       "3  feel nicebuild excellentaudio quality bestnetw...   \n",
       "4  battery drainage too fast as par 5000 mah batt...   \n",
       "\n",
       "                              POS tagged  \n",
       "0                                     []  \n",
       "1              [nice phone, good camera]  \n",
       "2                                     []  \n",
       "3  [excellentaudio quality, good manner]  \n",
       "4                       [good otherwise]  "
      ]
     },
     "execution_count": 21,
     "metadata": {},
     "output_type": "execute_result"
    }
   ],
   "source": [
    "data.head()"
   ]
  },
  {
   "cell_type": "code",
   "execution_count": 12,
   "id": "8da1fa66",
   "metadata": {},
   "outputs": [],
   "source": [
    "# cleaning the data\n",
    "\n",
    "def clean(text):\n",
    "    text = re.sub('[^a-zA-Z0-9]', ' ', text) # Removes special characters  \n",
    "    text = text.lower() # Converts to lowercase\n",
    "    text = re.sub('\\s+', ' ', text) # Remove extra whitespace\n",
    "    return text\n",
    "\n",
    "data['Cleaned Reviews'] = data['text'].apply(clean)"
   ]
  },
  {
   "cell_type": "code",
   "execution_count": 13,
   "id": "70440ec0",
   "metadata": {},
   "outputs": [],
   "source": [
    "# tokenization\n",
    "\n",
    "def tokenize_text(text):\n",
    "    tokens = nltk.word_tokenize(text)\n",
    "    return tokens"
   ]
  },
  {
   "cell_type": "code",
   "execution_count": 14,
   "id": "9f40d580",
   "metadata": {},
   "outputs": [],
   "source": [
    "# POS tagging\n",
    "\n",
    "def pos_tag(tokens):\n",
    "    tagged_tokens = nltk.pos_tag(tokens)\n",
    "    return tagged_tokens"
   ]
  },
  {
   "cell_type": "code",
   "execution_count": 15,
   "id": "b8e45671",
   "metadata": {
    "scrolled": true
   },
   "outputs": [
    {
     "data": {
      "text/html": [
       "<div>\n",
       "<style scoped>\n",
       "    .dataframe tbody tr th:only-of-type {\n",
       "        vertical-align: middle;\n",
       "    }\n",
       "\n",
       "    .dataframe tbody tr th {\n",
       "        vertical-align: top;\n",
       "    }\n",
       "\n",
       "    .dataframe thead th {\n",
       "        text-align: right;\n",
       "    }\n",
       "</style>\n",
       "<table border=\"1\" class=\"dataframe\">\n",
       "  <thead>\n",
       "    <tr style=\"text-align: right;\">\n",
       "      <th></th>\n",
       "      <th>rating</th>\n",
       "      <th>text</th>\n",
       "      <th>keywords</th>\n",
       "      <th>Cleaned Reviews</th>\n",
       "      <th>POS tagged</th>\n",
       "    </tr>\n",
       "  </thead>\n",
       "  <tbody>\n",
       "    <tr>\n",
       "      <th>0</th>\n",
       "      <td>4</td>\n",
       "      <td>Nice</td>\n",
       "      <td>[]</td>\n",
       "      <td>nice</td>\n",
       "      <td>[]</td>\n",
       "    </tr>\n",
       "    <tr>\n",
       "      <th>1</th>\n",
       "      <td>4</td>\n",
       "      <td>Nice phone good camera quality</td>\n",
       "      <td>[]</td>\n",
       "      <td>nice phone good camera quality</td>\n",
       "      <td>[nice phone, good camera]</td>\n",
       "    </tr>\n",
       "    <tr>\n",
       "      <th>2</th>\n",
       "      <td>4</td>\n",
       "      <td>Everything ok but camera quality not good</td>\n",
       "      <td>[]</td>\n",
       "      <td>everything ok but camera quality not good</td>\n",
       "      <td>[]</td>\n",
       "    </tr>\n",
       "    <tr>\n",
       "      <th>3</th>\n",
       "      <td>4</td>\n",
       "      <td>Feel.....niceBuild..... excellentAudio quality...</td>\n",
       "      <td>[say goodback cam ...., min hick ups ..., soft...</td>\n",
       "      <td>feel nicebuild excellentaudio quality bestnetw...</td>\n",
       "      <td>[excellentaudio quality, good manner]</td>\n",
       "    </tr>\n",
       "    <tr>\n",
       "      <th>4</th>\n",
       "      <td>4</td>\n",
       "      <td>battery drainage too fast. as par 5000 mah bat...</td>\n",
       "      <td>[3300 mah battery]</td>\n",
       "      <td>battery drainage too fast as par 5000 mah batt...</td>\n",
       "      <td>[good otherwise]</td>\n",
       "    </tr>\n",
       "  </tbody>\n",
       "</table>\n",
       "</div>"
      ],
      "text/plain": [
       "  rating                                               text  \\\n",
       "0      4                                               Nice   \n",
       "1      4                     Nice phone good camera quality   \n",
       "2      4          Everything ok but camera quality not good   \n",
       "3      4  Feel.....niceBuild..... excellentAudio quality...   \n",
       "4      4  battery drainage too fast. as par 5000 mah bat...   \n",
       "\n",
       "                                            keywords  \\\n",
       "0                                                 []   \n",
       "1                                                 []   \n",
       "2                                                 []   \n",
       "3  [say goodback cam ...., min hick ups ..., soft...   \n",
       "4                                 [3300 mah battery]   \n",
       "\n",
       "                                     Cleaned Reviews  \\\n",
       "0                                               nice   \n",
       "1                     nice phone good camera quality   \n",
       "2          everything ok but camera quality not good   \n",
       "3  feel nicebuild excellentaudio quality bestnetw...   \n",
       "4  battery drainage too fast as par 5000 mah batt...   \n",
       "\n",
       "                              POS tagged  \n",
       "0                                     []  \n",
       "1              [nice phone, good camera]  \n",
       "2                                     []  \n",
       "3  [excellentaudio quality, good manner]  \n",
       "4                       [good otherwise]  "
      ]
     },
     "execution_count": 15,
     "metadata": {},
     "output_type": "execute_result"
    }
   ],
   "source": [
    "# extracting keywords from the Cleaned Reviews such that the adjective is followed by a noun\n",
    "\n",
    "pos_dict = {'J': 'A'}\n",
    "\n",
    "def token_stop_adjectives(text):\n",
    "    tags = pos_tag(tokenize_text(text))\n",
    "    newlist = []\n",
    "    for i in range(len(tags)-1):\n",
    "        word, tag = tags[i]\n",
    "        if word not in set(stopwords.words('english')) and tag[0] in pos_dict:\n",
    "            if tags[i+1][1][0] == 'N':\n",
    "                newlist.append((word + ' ' + tags[i+1][0]))\n",
    "        elif word not in set(stopwords.words('english')) and tag[0] not in pos_dict:\n",
    "            continue\n",
    "    return newlist\n",
    "\n",
    "data['POS tagged'] = data['Cleaned Reviews'].apply(token_stop_adjectives)\n",
    "data.head()"
   ]
  },
  {
   "cell_type": "code",
   "execution_count": 16,
   "id": "79dd1e4c",
   "metadata": {},
   "outputs": [],
   "source": [
    "sia=SentimentIntensityAnalyzer()"
   ]
  },
  {
   "cell_type": "code",
   "execution_count": 17,
   "id": "7e57c9b3",
   "metadata": {
    "scrolled": true
   },
   "outputs": [],
   "source": [
    "# performing Sentimental Analysis\n",
    "\n",
    "word_scores = defaultdict(list)\n",
    "\n",
    "# calculating the sentiment scores for each word in each sentence\n",
    "for sentence in data['POS tagged']:\n",
    "    for word in sentence:\n",
    "        scores = sia.polarity_scores(word)\n",
    "        word_scores[word].append(scores['compound'])\n",
    "\n",
    "for sentence in data['keywords']:\n",
    "    for word in sentence:\n",
    "        scores = sia.polarity_scores(word)\n",
    "        word_scores[word].append(scores['compound'])\n",
    "\n",
    "# sorting the words by compound score\n",
    "positive_words = sorted(word_scores, key=lambda w: max(word_scores[w]), reverse=True)[:50]\n",
    "negative_words = sorted(word_scores, key=lambda w: min(word_scores[w]))[:50]"
   ]
  },
  {
   "cell_type": "code",
   "execution_count": 25,
   "id": "66e1241c",
   "metadata": {
    "scrolled": false
   },
   "outputs": [
    {
     "name": "stdout",
     "output_type": "stream",
     "text": [
      "42\n",
      "16\n"
     ]
    }
   ],
   "source": [
    "# algorithm to calculate the number of positive and negative words to be returned on the basis of the Ratings\n",
    "\n",
    "pos={'1': 10, '2': 8, '3': 6, '4': 4,'5': 2}\n",
    "neg={'1': 2, '2': 4, '3': 6, '4': 8,'5': 10}\n",
    "\n",
    "count_pos=0\n",
    "count_neg=0\n",
    "\n",
    "for key in rating:\n",
    "    count_pos += round(rating[key]/pos[key])\n",
    "    count_neg += round(rating[key]/neg[key])\n",
    "\n",
    "print(count_pos)\n",
    "print(count_neg)"
   ]
  },
  {
   "cell_type": "code",
   "execution_count": 19,
   "id": "ff5f8596",
   "metadata": {
    "scrolled": true
   },
   "outputs": [
    {
     "data": {
      "text/plain": [
       "[{'text': 'great thanks', 'value': 79.06},\n",
       " {'text': 'good super', 'value': 77.83},\n",
       " {'text': 'good super amoled display', 'value': 77.83},\n",
       " {'text': 'best value', 'value': 76.5},\n",
       " {'text': 'good hope', 'value': 70.03},\n",
       " {'text': 'amazon great india sale', 'value': 70.03},\n",
       " {'text': 'still good hope realme', 'value': 70.03},\n",
       " {'text': 'good feature good looking', 'value': 70.03},\n",
       " {'text': 'efficient good performance', 'value': 69.08},\n",
       " {'text': 'good clarity', 'value': 68.08},\n",
       " {'text': 'good brightness', 'value': 67.05},\n",
       " {'text': 'satisfied thank', 'value': 64.86},\n",
       " {'text': 'best phone', 'value': 63.69},\n",
       " {'text': 'best colours', 'value': 63.69},\n",
       " {'text': 'best stabilization', 'value': 63.69},\n",
       " {'text': 'best nahi', 'value': 63.69},\n",
       " {'text': 'best mobile', 'value': 63.69},\n",
       " {'text': 'best deal', 'value': 63.69},\n",
       " {'text': 'best smartphone', 'value': 63.69},\n",
       " {'text': 'best camera', 'value': 63.69},\n",
       " {'text': 'best multi media experience', 'value': 63.69},\n",
       " {'text': 'best nahi ', 'value': 63.69},\n",
       " {'text': 'best mobile phone', 'value': 63.69},\n",
       " {'text': 'best around 16k ', 'value': 63.69},\n",
       " {'text': 'best fingerprint working', 'value': 63.69},\n",
       " {'text': 'processor etc love', 'value': 63.69},\n",
       " {'text': '20000 best camera', 'value': 63.69},\n",
       " {'text': 'best battery backup', 'value': 63.69},\n",
       " {'text': 'best 5g processor also', 'value': 63.69},\n",
       " {'text': 'worked like charm', 'value': 63.69},\n",
       " {'text': 'great performance', 'value': 62.49},\n",
       " {'text': 'great camera', 'value': 62.49},\n",
       " {'text': 'great cameras', 'value': 62.49},\n",
       " {'text': 'awesome haptics', 'value': 62.49},\n",
       " {'text': 'awesome battery', 'value': 62.49},\n",
       " {'text': 'great stereo', 'value': 62.49},\n",
       " {'text': 'great job', 'value': 62.49},\n",
       " {'text': 'awesome i', 'value': 62.49},\n",
       " {'text': 'awesome quality', 'value': 62.49},\n",
       " {'text': 'awesome budget', 'value': 62.49},\n",
       " {'text': 'great display', 'value': 62.49},\n",
       " {'text': 'awesome iam', 'value': 62.49},\n",
       " {'text': 'great performance processor', 'value': 62.49},\n",
       " {'text': 'superb overall mobile', 'value': 62.49},\n",
       " {'text': 'great dual speaker', 'value': 62.49},\n",
       " {'text': 'great stereo sound', 'value': 62.49},\n",
       " {'text': '0 great ui', 'value': 62.49},\n",
       " {'text': 'great camera', 'value': 62.49},\n",
       " {'text': 'performance absolutely amazing', 'value': 62.4},\n",
       " {'text': 'absolutely amazing phone', 'value': 62.4},\n",
       " {'text': 'negative comments', 'value': -57.19},\n",
       " {'text': 'negative points', 'value': -57.19},\n",
       " {'text': 'bad pros', 'value': -54.23},\n",
       " {'text': 'disappointing thing', 'value': -49.39},\n",
       " {'text': 'poor battery', 'value': -47.67},\n",
       " {'text': 'much irritating', 'value': -45.88},\n",
       " {'text': 'touch problem', 'value': -40.19},\n",
       " {'text': 'single problem', 'value': -40.19},\n",
       " {'text': 'big problem', 'value': -40.19},\n",
       " {'text': '4inch bezelno complaints', 'value': -40.19},\n",
       " {'text': 'single problem came', 'value': -40.19},\n",
       " {'text': 'dislike front camera quality', 'value': -38.18},\n",
       " {'text': 'battery drained quickly', 'value': -36.12},\n",
       " {'text': 'major missing ', 'value': -29.6},\n",
       " {'text': 'lagging issue', 'value': -27.32},\n",
       " {'text': 'low light', 'value': -27.32}]"
      ]
     },
     "execution_count": 19,
     "metadata": {},
     "output_type": "execute_result"
    }
   ],
   "source": [
    "# generating an array of product's features\n",
    "\n",
    "p=0\n",
    "n=0\n",
    "returnwords=[]\n",
    "for word in positive_words:\n",
    "    if(p<count_pos and max(word_scores[word])>0.5 ):\n",
    "        returnwords.append({'text':clean(word), 'value':round(max(word_scores[word])*100,2)})\n",
    "        p=p+1\n",
    "    else:\n",
    "        break\n",
    "\n",
    "for word in negative_words:\n",
    "    if(n<count_neg):\n",
    "        returnwords.append({'text':clean(word), 'value':round(min(word_scores[word])*100,2)})\n",
    "        n=n+1\n",
    "    else:\n",
    "        break        \n",
    "        \n",
    "returnwords"
   ]
  },
  {
   "cell_type": "code",
   "execution_count": null,
   "id": "455481dd",
   "metadata": {},
   "outputs": [],
   "source": []
  }
 ],
 "metadata": {
  "kernelspec": {
   "display_name": "Python 3 (ipykernel)",
   "language": "python",
   "name": "python3"
  },
  "language_info": {
   "codemirror_mode": {
    "name": "ipython",
    "version": 3
   },
   "file_extension": ".py",
   "mimetype": "text/x-python",
   "name": "python",
   "nbconvert_exporter": "python",
   "pygments_lexer": "ipython3",
   "version": "3.10.9"
  }
 },
 "nbformat": 4,
 "nbformat_minor": 5
}
